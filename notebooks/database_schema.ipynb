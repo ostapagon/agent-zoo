{
 "cells": [
  {
   "cell_type": "code",
   "execution_count": 1,
   "id": "112ee099-0485-4bfa-a412-5ab0e6339fb0",
   "metadata": {},
   "outputs": [],
   "source": [
    "%load_ext autoreload\n",
    "%autoreload 2"
   ]
  },
  {
   "cell_type": "code",
   "execution_count": 4,
   "id": "a49ae922-1afd-47e2-b20e-3bf910b31419",
   "metadata": {},
   "outputs": [],
   "source": [
    "import sys\n",
    "sys.path.append(\"../agents\")\n",
    "sys.path.append(\"../backend\")\n",
    "sys.path.append(\"../\")\n"
   ]
  },
  {
   "cell_type": "code",
   "execution_count": 5,
   "id": "c2ea6431-ee39-44ce-b8ac-c3dbc1035d78",
   "metadata": {},
   "outputs": [
    {
     "name": "stdout",
     "output_type": "stream",
     "text": [
      "Database Schema (POSTGRESQL):\n",
      "\n",
      "Table: users\n",
      "------------\n",
      "  id                   INTEGER                NOT NULL DEFAULT nextval('users_id_seq'::regclass)\n",
      "  name                 VARCHAR(100)                NULL DEFAULT None\n",
      "  email                VARCHAR(100)                NULL DEFAULT None\n",
      "  age                  INTEGER                NULL DEFAULT None\n",
      "\n",
      "Table: orders\n",
      "-------------\n",
      "  id                   INTEGER                NOT NULL DEFAULT nextval('orders_id_seq'::regclass)\n",
      "  user_id              INTEGER                NULL DEFAULT None\n",
      "  product_name         VARCHAR(100)                NULL DEFAULT None\n",
      "  amount               NUMERIC(10,2)          NULL DEFAULT None\n",
      "  order_date           TIMESTAMP                NULL DEFAULT None\n",
      "\n",
      "  Foreign Keys:\n",
      "    user_id -> users.id\n",
      "\n",
      "\n"
     ]
    }
   ],
   "source": [
    "from services.database import DatabaseService\n",
    "\n",
    "config = {\n",
    "    \"database\": {\n",
    "        \"type\": \"postgresql\",\n",
    "        \"url\": \"postgresql://text2sql:text2sql@db:5432/text2sql_db\",\n",
    "        \"max_connections\": 10\n",
    "    }\n",
    "}\n",
    "\n",
    "# Use with async context manager (recommended)\n",
    "async with DatabaseService(config) as db_service:\n",
    "    result = await db_service.mschema(format_type=\"text\")\n",
    "    print(result[\"schema\"])"
   ]
  },
  {
   "cell_type": "code",
   "execution_count": null,
   "id": "f145117a-3fbe-4ee9-8acb-7d4b5dbf95cb",
   "metadata": {},
   "outputs": [],
   "source": []
  },
  {
   "cell_type": "code",
   "execution_count": null,
   "id": "e2e70b10-1350-481e-b976-e35d5e8eab7c",
   "metadata": {},
   "outputs": [],
   "source": []
  }
 ],
 "metadata": {
  "kernelspec": {
   "display_name": "Python 3 (ipykernel)",
   "language": "python",
   "name": "python3"
  },
  "language_info": {
   "codemirror_mode": {
    "name": "ipython",
    "version": 3
   },
   "file_extension": ".py",
   "mimetype": "text/x-python",
   "name": "python",
   "nbconvert_exporter": "python",
   "pygments_lexer": "ipython3",
   "version": "3.11.13"
  }
 },
 "nbformat": 4,
 "nbformat_minor": 5
}
